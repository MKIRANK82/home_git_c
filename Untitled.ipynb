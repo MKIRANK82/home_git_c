{
 "cells": [
  {
   "cell_type": "code",
   "execution_count": 1,
   "id": "3ddb0b29-ebf6-47eb-b935-35d4550663b0",
   "metadata": {},
   "outputs": [],
   "source": [
    "from PIL import Image\n",
    "\n",
    "def change_red_to_blue(input_image_path, output_image_path):\n",
    "    # Open an image file\n",
    "    with Image.open(input_image_path) as img:\n",
    "        # Convert image to RGBA format if not already in this mode\n",
    "        img = img.convert(\"RGBA\")\n",
    "        # Get pixel data\n",
    "        pixels = img.load()\n",
    "\n",
    "        # Iterate through pixels\n",
    "        for y in range(img.height):\n",
    "            for x in range(img.width):\n",
    "                r, g, b, a = pixels[x, y]  # Get RGBA values for the pixel\n",
    "                \n",
    "                # If the pixel is red (r > 150 and g < 100 and b < 100), change it to blue\n",
    "                if r > 150 and g < 100 and b < 100:\n",
    "                    # Change the color to blue (0, 0, 255)\n",
    "                    pixels[x, y] = (0, 0, 255, a)\n",
    "\n",
    "        # Save the modified image\n",
    "        img.save(output_image_path)\n",
    "\n",
    "# Example usage\n",
    "input_image_path = r\"E:\\EEP\\back.jpg\"\n",
    "output_image_path = r\"E:\\EEP\\output_image.png\"\n",
    "change_red_to_blue(input_image_path, output_image_path)\n"
   ]
  },
  {
   "cell_type": "code",
   "execution_count": 46,
   "id": "ada442d7-9095-4434-8b43-42deabddf1d6",
   "metadata": {},
   "outputs": [
    {
     "name": "stdout",
     "output_type": "stream",
     "text": [
      "         Date  Sno  AMT\n",
      "0  2024-07-12    1   21\n",
      "1  2024-07-13    1   21\n",
      "2  2024-07-14    1   21\n",
      "3  2024-07-15    1   21\n",
      "4  2024-07-16    1   21\n",
      "..        ...  ...  ...\n",
      "70 2024-09-20    2  -22\n",
      "71 2024-09-21    2  -22\n",
      "72 2024-09-22    2  -22\n",
      "73 2024-09-23    2  -22\n",
      "74 2024-09-24    3   35\n",
      "\n",
      "[75 rows x 3 columns]\n"
     ]
    }
   ],
   "source": [
    "import pandas as pd\n",
    "from datetime import datetime\n",
    "\n",
    "# List of dictionaries\n",
    "list1 = [{'Sno': 1, 'Date': '12JUL2024', 'AMT': 21},\n",
    "         {'Sno': 2, 'Date': '13SEP2024', 'AMT': -22},\n",
    "         {'Sno': 3, 'Date': '24SEP2024', 'AMT': 35}]\n",
    "\n",
    "# Convert the list to a DataFrame\n",
    "df = pd.DataFrame(list1)\n",
    "\n",
    "# Convert 'Date' column to datetime\n",
    "df['Date'] = pd.to_datetime(df['Date'], format='%d%b%Y')\n",
    "\n",
    "# Step 1: Drop duplicates or aggregate the data to ensure unique dates\n",
    "# We keep the last entry for each day (group by 'Date' and take the last entry)\n",
    "df_unique = df.groupby('Date').last()\n",
    "\n",
    "# Step 2: Resample the data to ensure every date is accounted for, and fill missing dates with the previous day's data\n",
    "# This assumes daily data, so we use 'D' for resampling by day\n",
    "df_resampled = df_unique.resample('D').ffill()\n",
    "\n",
    "# Step 3: Reset the index if necessary\n",
    "df_resampled.reset_index(inplace=True)\n",
    "\n",
    "# Display the result\n",
    "print(df_resampled)\n",
    "\n",
    "# You can write the result to an Excel file if needed\n",
    "df_resampled.to_excel('filtered_output.xlsx', index=False)\n"
   ]
  },
  {
   "cell_type": "code",
   "execution_count": 47,
   "id": "d0ec4b91-8a08-49af-afbc-1889f4d40a32",
   "metadata": {},
   "outputs": [],
   "source": [
    "Range1=['01AUG2024','15AUG2024']\n",
    "Range2=['16AUG2024','30AUG2024']\n",
    "Range3=['01SEP2024','20SEP2024']\n",
    "\n"
   ]
  },
  {
   "cell_type": "code",
   "execution_count": null,
   "id": "205715a6-c318-4830-8798-3276d58cd2eb",
   "metadata": {},
   "outputs": [],
   "source": []
  },
  {
   "cell_type": "code",
   "execution_count": 48,
   "id": "3a99e5be-89df-445d-8ad6-15244a5a9873",
   "metadata": {},
   "outputs": [],
   "source": [
    "acc=0\n",
    "acc_amt = 0\n",
    "cut=0\n",
    "now=0\n",
    "data=df_resampled\n",
    "for i in range(len(data)):\n",
    "    if data.at[i,'Date'] >= datetime.strptime(Range3[0],'%d%b%Y') and data.at[i,'Date'] <= datetime.strptime(Range3[1],'%d%b%Y') :\n",
    "        acc = acc + 1\n",
    "        if data.at[i,\"AMT\"] < 0:\n",
    "            acc_amt+=1\n",
    "            \n",
    "    "
   ]
  },
  {
   "cell_type": "code",
   "execution_count": 44,
   "id": "8a469a87-6a64-4684-a3cf-cd80a9f55fe8",
   "metadata": {},
   "outputs": [
    {
     "data": {
      "text/plain": [
       "8"
      ]
     },
     "execution_count": 44,
     "metadata": {},
     "output_type": "execute_result"
    }
   ],
   "source": [
    "acc_amt"
   ]
  },
  {
   "cell_type": "code",
   "execution_count": 33,
   "id": "cc826b99-1084-4776-bdc0-a176adb43f13",
   "metadata": {},
   "outputs": [
    {
     "data": {
      "text/plain": [
       "str"
      ]
     },
     "execution_count": 33,
     "metadata": {},
     "output_type": "execute_result"
    }
   ],
   "source": []
  },
  {
   "cell_type": "code",
   "execution_count": 81,
   "id": "a07a1053-462e-4331-9dcc-60222fe444d8",
   "metadata": {},
   "outputs": [],
   "source": [
    "import tkinter as tk\n",
    "from tkinter import messagebox\n",
    "from datetime import datetime , timedelta\n",
    "import pandas as pd\n",
    "import random\n",
    "\n",
    "dfs=pd.DataFrame()\n",
    "df=pd.DataFrame()\n",
    "# Simulated function to get data from an external source (you can replace this with your actual data-fetching logic)\n",
    "def get_data():\n",
    "    start_date = datetime.now() - timedelta(days=29)\n",
    "    \n",
    "    data = {\n",
    "        \"Date\": [(start_date + timedelta(days=i)).strftime(\"%Y-%m-%d\") for i in range(30)],\n",
    "        \"Amount\": [random.uniform(100.00, 1000.00) for _ in range(25)] + [random.uniform(-1000.00, -100.00) for _ in range(5)]\n",
    "    }\n",
    "\n",
    "    # Shuffle the amounts so that negative values are randomly placed\n",
    "    random.shuffle(data['Amount'])\n",
    "\n",
    "    df = pd.DataFrame(data)\n",
    "    return df\n",
    "\n",
    "# Function to calculate and display total days and other values, and display data as a table\n",
    "# In calculate_days function\n",
    "def filter_data():\n",
    "    global dfs\n",
    "    df=dfs\n",
    "    if debit_var.get() == 1 and credit_var.get() == 0:\n",
    "            # Show only negative amounts (debits)\n",
    "        df = dfs[dfs['Amount'] < 0]\n",
    "    elif credit_var.get() == 1 and debit_var.get() == 0:\n",
    "        # Show only positive amounts (credits)\n",
    "        df = dfs[dfs['Amount'] > 0]\n",
    "    \n",
    "    # Populate \"Total Number of Entries\" with the number of filtered entries in the DataFrame\n",
    "    total_days_var.set(f\"Total Number of Entries: {len(df)}\")\n",
    "\n",
    "    # Clear previous data from the display area\n",
    "    display_area.delete(1.0, tk.END)\n",
    "\n",
    "    \n",
    "    \n",
    "    # Display table headers\n",
    "    display_area.insert(tk.END, \"\\nDate\\t\\tAmount\\n\")\n",
    "    display_area.insert(tk.END, \"-------------------------\\n\")\n",
    "\n",
    "    # Display filtered DataFrame content in the table format\n",
    "    for index, row in df.iterrows():\n",
    "        display_area.insert(tk.END, f\"{row['Date']}\\t{row['Amount']:.2f}\\n\")\n",
    "\n",
    "\n",
    "def calculate_days():\n",
    "    global dfs\n",
    "    try:\n",
    "        tran_date = datetime.strptime(tran_date_entry.get(), \"%Y-%m-%d\")\n",
    "        settlement_date = datetime.strptime(settlement_date_entry.get(), \"%Y-%m-%d\")\n",
    "        filter_start = datetime.strptime(filter_start_entry.get(), \"%Y-%m-%d\")\n",
    "        filter_end = datetime.strptime(filter_end_entry.get(), \"%Y-%m-%d\")\n",
    "\n",
    "        # Get data from external source (simulated here with get_data function)\n",
    "        dfs = get_data()\n",
    "        df=dfs\n",
    "        # Filter DataFrame based on checkbox selections\n",
    "        filter_data()\n",
    "\n",
    "    except ValueError as e:\n",
    "        messagebox.showerror(\"Invalid Date\", \"Please enter dates in the format YYYY-MM-DD\")\n",
    "\n",
    "\n",
    "# Main window\n",
    "root = tk.Tk()\n",
    "root.title(\"Transaction Information\")\n",
    "\n",
    "# Labels and Entries for Account and Branch\n",
    "tk.Label(root, text=\"Account:\").grid(row=0, column=0, padx=10, pady=5)\n",
    "account_entry = tk.Entry(root)\n",
    "account_entry.grid(row=0, column=1, padx=10, pady=5)\n",
    "\n",
    "tk.Label(root, text=\"Branch:\").grid(row=0, column=2, padx=10, pady=5)\n",
    "branch_entry = tk.Entry(root)\n",
    "branch_entry.grid(row=0, column=3, padx=10, pady=5)\n",
    "\n",
    "# Labels and Entries for TranDate and SettlementDate\n",
    "tk.Label(root, text=\"TranDate (YYYY-MM-DD):\").grid(row=1, column=0, padx=10, pady=5)\n",
    "tran_date_entry = tk.Entry(root)\n",
    "tran_date_entry.grid(row=1, column=1, padx=10, pady=5)\n",
    "\n",
    "tk.Label(root, text=\"SettlementDate (YYYY-MM-DD):\").grid(row=1, column=2, padx=10, pady=5)\n",
    "settlement_date_entry = tk.Entry(root)\n",
    "settlement_date_entry.grid(row=1, column=3, padx=10, pady=5)\n",
    "\n",
    "# Labels and Entries for FilterStart and FilterEnd\n",
    "tk.Label(root, text=\"FilterStart (YYYY-MM-DD):\").grid(row=2, column=0, padx=10, pady=5)\n",
    "filter_start_entry = tk.Entry(root)\n",
    "filter_start_entry.grid(row=2, column=1, padx=10, pady=5)\n",
    "\n",
    "tk.Label(root, text=\"FilterEnd (YYYY-MM-DD):\").grid(row=2, column=2, padx=10, pady=5)\n",
    "filter_end_entry = tk.Entry(root)\n",
    "filter_end_entry.grid(row=2, column=3, padx=10, pady=5)\n",
    "\n",
    "# Checkboxes for Debit and Credit\n",
    "debit_var = tk.IntVar()\n",
    "credit_var = tk.IntVar()\n",
    "\n",
    "tk.Checkbutton(root, text=\"Debit\", variable=debit_var,command=filter_data).grid(row=3, column=0, padx=10, pady=5)\n",
    "tk.Checkbutton(root, text=\"Credit\", variable=credit_var,command=filter_data).grid(row=3, column=1, padx=10, pady=5)\n",
    "\n",
    "# Label for Total Number of Days (non-editable)\n",
    "total_days_var = tk.StringVar()\n",
    "total_days_var.set(\"Total Number of Days: __\")\n",
    "total_days_label = tk.Label(root, textvariable=total_days_var, relief=\"sunken\")\n",
    "total_days_label.grid(row=4, column=0, columnspan=4, padx=10, pady=5)\n",
    "\n",
    "# Display area for Date, Seq, and Amt\n",
    "tk.Label(root, text=\"Display Area:\").grid(row=6, column=0, padx=10, pady=5)\n",
    "\n",
    "display_area = tk.Text(root, height=10, width=50)\n",
    "display_area.grid(row=7, column=0, columnspan=4, padx=10, pady=5)\n",
    "\n",
    "# Button to calculate total days and display information\n",
    "tk.Button(root, text=\"Submit\", command=calculate_days).grid(row=5, column=0, columnspan=4, padx=10, pady=5)\n",
    "\n",
    "# Run the application\n",
    "root.mainloop()\n"
   ]
  },
  {
   "cell_type": "code",
   "execution_count": 1,
   "id": "97ee7822-9797-4f74-9d02-46bda52926d8",
   "metadata": {},
   "outputs": [
    {
     "name": "stdout",
     "output_type": "stream",
     "text": [
      "Selected option: Option 2\n",
      "Selected option: Option 1\n",
      "Selected option: Option 3\n",
      "Selected option: Option 1\n",
      "Selected option: Option 2\n",
      "Selected option: Option 3\n"
     ]
    }
   ],
   "source": [
    "import tkinter as tk\n",
    "\n",
    "# Create main window\n",
    "root = tk.Tk()\n",
    "root.title(\"Radio Button Example\")\n",
    "\n",
    "# Variable to store the value of the selected radio button\n",
    "selected_option = tk.StringVar()\n",
    "\n",
    "# Function to display the selected option\n",
    "def show_selection():\n",
    "    print(f\"Selected option: {selected_option.get()}\")\n",
    "\n",
    "# Create radio buttons\n",
    "radio1 = tk.Radiobutton(root, text=\"Option 1\", variable=selected_option, value=\"Option 1\", command=show_selection)\n",
    "radio2 = tk.Radiobutton(root, text=\"Option 2\", variable=selected_option, value=\"Option 2\", command=show_selection)\n",
    "radio3 = tk.Radiobutton(root, text=\"Option 3\", variable=selected_option, value=\"Option 3\", command=show_selection)\n",
    "\n",
    "# Set a default value\n",
    "selected_option.set(\"Option 1\")\n",
    "\n",
    "# Pack the radio buttons\n",
    "radio1.pack()\n",
    "radio2.pack()\n",
    "radio3.pack()\n",
    "\n",
    "# Run the GUI event loop\n",
    "root.mainloop()\n"
   ]
  },
  {
   "cell_type": "code",
   "execution_count": null,
   "id": "737b7fa0-83f2-4993-8709-bc1ea24b70a2",
   "metadata": {},
   "outputs": [],
   "source": [
    "!pip "
   ]
  },
  {
   "cell_type": "code",
   "execution_count": 3,
   "id": "e2a23fdf-87c7-421f-ab8e-6d7221b9ea13",
   "metadata": {},
   "outputs": [
    {
     "ename": "ModuleNotFoundError",
     "evalue": "No module named 'openai'",
     "output_type": "error",
     "traceback": [
      "\u001b[1;31m---------------------------------------------------------------------------\u001b[0m",
      "\u001b[1;31mModuleNotFoundError\u001b[0m                       Traceback (most recent call last)",
      "Cell \u001b[1;32mIn[3], line 2\u001b[0m\n\u001b[0;32m      1\u001b[0m \u001b[38;5;28;01mimport\u001b[39;00m \u001b[38;5;21;01mos\u001b[39;00m \n\u001b[1;32m----> 2\u001b[0m \u001b[38;5;28;01mimport\u001b[39;00m \u001b[38;5;21;01mopenai\u001b[39;00m\n\u001b[0;32m      3\u001b[0m API_KEY \u001b[38;5;241m=\u001b[39mos\u001b[38;5;241m.\u001b[39mgetenv(\u001b[38;5;124m\"\u001b[39m\u001b[38;5;124mOPEN_API_KEY\u001b[39m\u001b[38;5;124m\"\u001b[39m)\n",
      "\u001b[1;31mModuleNotFoundError\u001b[0m: No module named 'openai'"
     ]
    }
   ],
   "source": [
    "import os \n",
    "import openai\n",
    "API_KEY =os.getenv(\"OPEN_API_KEY\")"
   ]
  },
  {
   "cell_type": "code",
   "execution_count": null,
   "id": "607558e5-3cc2-40c4-9acf-ac276f740159",
   "metadata": {},
   "outputs": [],
   "source": [
    "messages = [\n",
    "    {\"role\": \"system\", \"content\": \"You are a kind helpful assistant.\"},\n",
    "]"
   ]
  }
 ],
 "metadata": {
  "kernelspec": {
   "display_name": "Python 3 (ipykernel)",
   "language": "python",
   "name": "python3"
  },
  "language_info": {
   "codemirror_mode": {
    "name": "ipython",
    "version": 3
   },
   "file_extension": ".py",
   "mimetype": "text/x-python",
   "name": "python",
   "nbconvert_exporter": "python",
   "pygments_lexer": "ipython3",
   "version": "3.12.4"
  }
 },
 "nbformat": 4,
 "nbformat_minor": 5
}
